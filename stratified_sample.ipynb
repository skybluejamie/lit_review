{
 "cells": [
  {
   "cell_type": "markdown",
   "metadata": {},
   "source": [
    "First, load the selected articles from the exported Rayyan .csv file into the notebook, as a dataframe."
   ]
  },
  {
   "cell_type": "code",
   "execution_count": 54,
   "metadata": {},
   "outputs": [
    {
     "name": "stdout",
     "output_type": "stream",
     "text": [
      "185\n"
     ]
    }
   ],
   "source": [
    "import pandas as pd\n",
    "\n",
    "dataset_filepath = \"data\\selectedArticles_SA.csv\" # adjusted to your desired path\n",
    "articles = pd.read_csv(dataset_filepath)\n",
    "print(len(articles))"
   ]
  },
  {
   "cell_type": "markdown",
   "metadata": {},
   "source": [
    "Below, we add a *country* column to the selected _articles_ dataframe."
   ]
  },
  {
   "cell_type": "code",
   "execution_count": 55,
   "metadata": {},
   "outputs": [],
   "source": [
    "countries = [ # List of South American countries - change for countries of interest\n",
    "    \"brazil\", \n",
    "    \"argentina\",\n",
    "    \"colombia\", \n",
    "    \"venezuela\", \n",
    "    \"peru\", \n",
    "    \"ecuador\", \n",
    "    \"paraguay\", \n",
    "    \"bolivia\", \n",
    "    \"uruguay\"\n",
    "]\n",
    "\n",
    "for index, article in articles.iterrows():\n",
    "    country = [c for c in countries if c.lower() in article.notes]\n",
    "    articles.at[index,'country'] = country[0] if country else \"\""
   ]
  },
  {
   "cell_type": "markdown",
   "metadata": {},
   "source": [
    "Get the original proportions of articles represented by each country:"
   ]
  },
  {
   "cell_type": "code",
   "execution_count": 56,
   "metadata": {},
   "outputs": [
    {
     "data": {
      "text/plain": [
       "brazil       55.675676\n",
       "             11.891892\n",
       "argentina    10.270270\n",
       "colombia      9.729730\n",
       "bolivia       5.405405\n",
       "ecuador       3.783784\n",
       "peru          3.243243\n",
       "Name: country, dtype: float64"
      ]
     },
     "execution_count": 56,
     "metadata": {},
     "output_type": "execute_result"
    }
   ],
   "source": [
    "(articles['country'].value_counts()) / len(articles) * 100"
   ]
  },
  {
   "cell_type": "markdown",
   "metadata": {},
   "source": [
    "Select a stratified samples of articles (of size N) from the original articles (based on *country*):"
   ]
  },
  {
   "cell_type": "code",
   "execution_count": 57,
   "metadata": {},
   "outputs": [
    {
     "name": "stdout",
     "output_type": "stream",
     "text": [
      "51\n"
     ]
    }
   ],
   "source": [
    "N = 50 # Number of desired articles in selected sample\n",
    "sample_fraction = N/len(articles) # Get the fraction size of desired samples based off original sample length (N must be less than original sample size)\n",
    "\n",
    "sample_df = articles.groupby('country').apply(lambda x: x.sample(frac=sample_fraction))\n",
    "print(len(sample_df)) # Check new sample size is correct (same as N - or close enough)"
   ]
  },
  {
   "cell_type": "markdown",
   "metadata": {},
   "source": [
    "Check proportions match (or are near enough to) proportions from original samples:"
   ]
  },
  {
   "cell_type": "code",
   "execution_count": 58,
   "metadata": {},
   "outputs": [
    {
     "data": {
      "text/plain": [
       "brazil       54.901961\n",
       "             11.764706\n",
       "argentina     9.803922\n",
       "colombia      9.803922\n",
       "bolivia       5.882353\n",
       "ecuador       3.921569\n",
       "peru          3.921569\n",
       "Name: country, dtype: float64"
      ]
     },
     "execution_count": 58,
     "metadata": {},
     "output_type": "execute_result"
    }
   ],
   "source": [
    "(sample_df['country'].value_counts()) / len(sample_df) * 100"
   ]
  },
  {
   "cell_type": "code",
   "execution_count": null,
   "metadata": {},
   "outputs": [],
   "source": []
  }
 ],
 "metadata": {
  "kernelspec": {
   "display_name": "Python 3.10.5 64-bit",
   "language": "python",
   "name": "python3"
  },
  "language_info": {
   "codemirror_mode": {
    "name": "ipython",
    "version": 3
   },
   "file_extension": ".py",
   "mimetype": "text/x-python",
   "name": "python",
   "nbconvert_exporter": "python",
   "pygments_lexer": "ipython3",
   "version": "3.10.5"
  },
  "orig_nbformat": 4,
  "vscode": {
   "interpreter": {
    "hash": "b699ad516edf39d5fb1337a985519d2e2bba29fb002af9b476ed7659fb298786"
   }
  }
 },
 "nbformat": 4,
 "nbformat_minor": 2
}
